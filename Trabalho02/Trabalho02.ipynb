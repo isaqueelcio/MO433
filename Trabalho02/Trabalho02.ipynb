{
 "cells": [
  {
   "cell_type": "markdown",
   "id": "confident-illinois",
   "metadata": {},
   "source": [
    "#### Aluno \n",
    "- Isaque Elcio de Souza (RA: 225310)"
   ]
  },
  {
   "cell_type": "code",
   "execution_count": 1,
   "id": "musical-politics",
   "metadata": {},
   "outputs": [],
   "source": [
    "import pandas as pd\n",
    "from sklearn.mixture import GaussianMixture\n",
    "from sklearn.cluster import KMeans\n",
    "from sklearn.metrics import silhouette_score, davies_bouldin_score, calinski_harabasz_score, fowlkes_mallows_score, adjusted_rand_score, jaccard_score\n",
    "import matplotlib.pyplot as plt"
   ]
  },
  {
   "cell_type": "code",
   "execution_count": 17,
   "id": "wrong-farmer",
   "metadata": {},
   "outputs": [],
   "source": [
    "df = pd.read_csv('../Trabalho02/dados/ex2data.csv', sep='\\s+', header=None)"
   ]
  },
  {
   "cell_type": "code",
   "execution_count": 18,
   "id": "attractive-actor",
   "metadata": {},
   "outputs": [
    {
     "data": {
      "text/html": [
       "<div>\n",
       "<style scoped>\n",
       "    .dataframe tbody tr th:only-of-type {\n",
       "        vertical-align: middle;\n",
       "    }\n",
       "\n",
       "    .dataframe tbody tr th {\n",
       "        vertical-align: top;\n",
       "    }\n",
       "\n",
       "    .dataframe thead th {\n",
       "        text-align: right;\n",
       "    }\n",
       "</style>\n",
       "<table border=\"1\" class=\"dataframe\">\n",
       "  <thead>\n",
       "    <tr style=\"text-align: right;\">\n",
       "      <th></th>\n",
       "      <th>0</th>\n",
       "      <th>1</th>\n",
       "      <th>2</th>\n",
       "      <th>3</th>\n",
       "      <th>4</th>\n",
       "      <th>5</th>\n",
       "      <th>6</th>\n",
       "      <th>7</th>\n",
       "      <th>8</th>\n",
       "      <th>9</th>\n",
       "      <th>10</th>\n",
       "      <th>11</th>\n",
       "      <th>12</th>\n",
       "    </tr>\n",
       "  </thead>\n",
       "  <tbody>\n",
       "    <tr>\n",
       "      <th>0</th>\n",
       "      <td>-10.63</td>\n",
       "      <td>-3.91</td>\n",
       "      <td>27.69</td>\n",
       "      <td>2.32</td>\n",
       "      <td>-8.17</td>\n",
       "      <td>-6.15</td>\n",
       "      <td>-2.45</td>\n",
       "      <td>-10.30</td>\n",
       "      <td>-5.62</td>\n",
       "      <td>7.98</td>\n",
       "      <td>5.32</td>\n",
       "      <td>1.35</td>\n",
       "      <td>-4.56</td>\n",
       "    </tr>\n",
       "    <tr>\n",
       "      <th>1</th>\n",
       "      <td>12.56</td>\n",
       "      <td>-19.50</td>\n",
       "      <td>4.39</td>\n",
       "      <td>1.53</td>\n",
       "      <td>-3.55</td>\n",
       "      <td>-15.97</td>\n",
       "      <td>-9.16</td>\n",
       "      <td>4.88</td>\n",
       "      <td>5.72</td>\n",
       "      <td>1.58</td>\n",
       "      <td>-3.41</td>\n",
       "      <td>-1.85</td>\n",
       "      <td>2.55</td>\n",
       "    </tr>\n",
       "    <tr>\n",
       "      <th>2</th>\n",
       "      <td>4.19</td>\n",
       "      <td>-12.30</td>\n",
       "      <td>-22.25</td>\n",
       "      <td>-6.14</td>\n",
       "      <td>7.47</td>\n",
       "      <td>12.42</td>\n",
       "      <td>6.47</td>\n",
       "      <td>-3.35</td>\n",
       "      <td>-10.22</td>\n",
       "      <td>8.19</td>\n",
       "      <td>5.50</td>\n",
       "      <td>11.08</td>\n",
       "      <td>-2.19</td>\n",
       "    </tr>\n",
       "    <tr>\n",
       "      <th>3</th>\n",
       "      <td>-6.38</td>\n",
       "      <td>-18.36</td>\n",
       "      <td>-6.67</td>\n",
       "      <td>-1.42</td>\n",
       "      <td>-3.67</td>\n",
       "      <td>13.01</td>\n",
       "      <td>3.23</td>\n",
       "      <td>-7.46</td>\n",
       "      <td>-3.01</td>\n",
       "      <td>-4.39</td>\n",
       "      <td>-3.40</td>\n",
       "      <td>-1.06</td>\n",
       "      <td>8.25</td>\n",
       "    </tr>\n",
       "    <tr>\n",
       "      <th>4</th>\n",
       "      <td>-16.33</td>\n",
       "      <td>0.41</td>\n",
       "      <td>1.56</td>\n",
       "      <td>-10.51</td>\n",
       "      <td>9.37</td>\n",
       "      <td>-3.81</td>\n",
       "      <td>-5.21</td>\n",
       "      <td>-2.16</td>\n",
       "      <td>-6.41</td>\n",
       "      <td>-8.93</td>\n",
       "      <td>-8.05</td>\n",
       "      <td>3.81</td>\n",
       "      <td>2.76</td>\n",
       "    </tr>\n",
       "    <tr>\n",
       "      <th>...</th>\n",
       "      <td>...</td>\n",
       "      <td>...</td>\n",
       "      <td>...</td>\n",
       "      <td>...</td>\n",
       "      <td>...</td>\n",
       "      <td>...</td>\n",
       "      <td>...</td>\n",
       "      <td>...</td>\n",
       "      <td>...</td>\n",
       "      <td>...</td>\n",
       "      <td>...</td>\n",
       "      <td>...</td>\n",
       "      <td>...</td>\n",
       "    </tr>\n",
       "    <tr>\n",
       "      <th>995</th>\n",
       "      <td>16.61</td>\n",
       "      <td>-14.12</td>\n",
       "      <td>-0.55</td>\n",
       "      <td>3.00</td>\n",
       "      <td>12.30</td>\n",
       "      <td>-0.11</td>\n",
       "      <td>2.85</td>\n",
       "      <td>-0.18</td>\n",
       "      <td>10.13</td>\n",
       "      <td>-5.37</td>\n",
       "      <td>-8.28</td>\n",
       "      <td>-10.78</td>\n",
       "      <td>2.00</td>\n",
       "    </tr>\n",
       "    <tr>\n",
       "      <th>996</th>\n",
       "      <td>-30.76</td>\n",
       "      <td>10.46</td>\n",
       "      <td>-1.95</td>\n",
       "      <td>-6.10</td>\n",
       "      <td>-1.55</td>\n",
       "      <td>8.68</td>\n",
       "      <td>1.35</td>\n",
       "      <td>-0.05</td>\n",
       "      <td>-3.93</td>\n",
       "      <td>-1.74</td>\n",
       "      <td>-7.33</td>\n",
       "      <td>-4.93</td>\n",
       "      <td>-3.53</td>\n",
       "    </tr>\n",
       "    <tr>\n",
       "      <th>997</th>\n",
       "      <td>9.61</td>\n",
       "      <td>-21.71</td>\n",
       "      <td>10.19</td>\n",
       "      <td>-8.49</td>\n",
       "      <td>-10.63</td>\n",
       "      <td>-9.37</td>\n",
       "      <td>-6.96</td>\n",
       "      <td>3.31</td>\n",
       "      <td>-2.23</td>\n",
       "      <td>5.86</td>\n",
       "      <td>-2.00</td>\n",
       "      <td>2.94</td>\n",
       "      <td>7.31</td>\n",
       "    </tr>\n",
       "    <tr>\n",
       "      <th>998</th>\n",
       "      <td>-14.32</td>\n",
       "      <td>-4.46</td>\n",
       "      <td>-4.53</td>\n",
       "      <td>-7.15</td>\n",
       "      <td>2.38</td>\n",
       "      <td>-14.32</td>\n",
       "      <td>6.34</td>\n",
       "      <td>3.93</td>\n",
       "      <td>-0.81</td>\n",
       "      <td>-13.97</td>\n",
       "      <td>-3.52</td>\n",
       "      <td>-1.13</td>\n",
       "      <td>5.46</td>\n",
       "    </tr>\n",
       "    <tr>\n",
       "      <th>999</th>\n",
       "      <td>17.40</td>\n",
       "      <td>11.46</td>\n",
       "      <td>14.03</td>\n",
       "      <td>5.07</td>\n",
       "      <td>0.81</td>\n",
       "      <td>20.62</td>\n",
       "      <td>1.40</td>\n",
       "      <td>4.62</td>\n",
       "      <td>-0.34</td>\n",
       "      <td>1.59</td>\n",
       "      <td>-3.86</td>\n",
       "      <td>-4.54</td>\n",
       "      <td>3.02</td>\n",
       "    </tr>\n",
       "  </tbody>\n",
       "</table>\n",
       "<p>1000 rows × 13 columns</p>\n",
       "</div>"
      ],
      "text/plain": [
       "        0      1      2      3      4      5     6      7      8      9   \\\n",
       "0   -10.63  -3.91  27.69   2.32  -8.17  -6.15 -2.45 -10.30  -5.62   7.98   \n",
       "1    12.56 -19.50   4.39   1.53  -3.55 -15.97 -9.16   4.88   5.72   1.58   \n",
       "2     4.19 -12.30 -22.25  -6.14   7.47  12.42  6.47  -3.35 -10.22   8.19   \n",
       "3    -6.38 -18.36  -6.67  -1.42  -3.67  13.01  3.23  -7.46  -3.01  -4.39   \n",
       "4   -16.33   0.41   1.56 -10.51   9.37  -3.81 -5.21  -2.16  -6.41  -8.93   \n",
       "..     ...    ...    ...    ...    ...    ...   ...    ...    ...    ...   \n",
       "995  16.61 -14.12  -0.55   3.00  12.30  -0.11  2.85  -0.18  10.13  -5.37   \n",
       "996 -30.76  10.46  -1.95  -6.10  -1.55   8.68  1.35  -0.05  -3.93  -1.74   \n",
       "997   9.61 -21.71  10.19  -8.49 -10.63  -9.37 -6.96   3.31  -2.23   5.86   \n",
       "998 -14.32  -4.46  -4.53  -7.15   2.38 -14.32  6.34   3.93  -0.81 -13.97   \n",
       "999  17.40  11.46  14.03   5.07   0.81  20.62  1.40   4.62  -0.34   1.59   \n",
       "\n",
       "       10     11    12  \n",
       "0    5.32   1.35 -4.56  \n",
       "1   -3.41  -1.85  2.55  \n",
       "2    5.50  11.08 -2.19  \n",
       "3   -3.40  -1.06  8.25  \n",
       "4   -8.05   3.81  2.76  \n",
       "..    ...    ...   ...  \n",
       "995 -8.28 -10.78  2.00  \n",
       "996 -7.33  -4.93 -3.53  \n",
       "997 -2.00   2.94  7.31  \n",
       "998 -3.52  -1.13  5.46  \n",
       "999 -3.86  -4.54  3.02  \n",
       "\n",
       "[1000 rows x 13 columns]"
      ]
     },
     "execution_count": 18,
     "metadata": {},
     "output_type": "execute_result"
    }
   ],
   "source": [
    "df"
   ]
  },
  {
   "cell_type": "markdown",
   "id": "macro-chinese",
   "metadata": {},
   "source": [
    "### 1 - k means\n",
    "- Rode o kmeans com k de 2 a 15.\n",
    "- Use silhueta e pelo menos alguma outra medida interna de qualidade\n",
    "- Moste os graficos dessas medidas versus o k"
   ]
  },
  {
   "cell_type": "code",
   "execution_count": 20,
   "id": "vertical-geology",
   "metadata": {},
   "outputs": [],
   "source": [
    "n_clusters = range(2,16)\n",
    "silhouette = []\n",
    "davies_bouldin = []\n",
    "calinski_harabasz = [] \n",
    "for n_cluster in n_clusters:\n",
    "    clusterer = KMeans(n_cluster)\n",
    "    cluster_labels = clusterer.fit(df.values)\n",
    "       \n",
    "    silhouette.append(silhouette_score(df.values, clusterer.labels_))\n",
    "    davies_bouldin.append(davies_bouldin_score(df.values, clusterer.labels_))\n",
    "    calinski_harabasz.append(calinski_harabasz_score(df.values, clusterer.labels_))   \n"
   ]
  },
  {
   "cell_type": "code",
   "execution_count": 21,
   "id": "offshore-incidence",
   "metadata": {},
   "outputs": [
    {
     "data": {
      "image/png": "[encoded data removed]",
      "text/plain": [
       "<Figure size 720x216 with 1 Axes>"
      ]
     },
     "metadata": {
      "needs_background": "light"
     },
     "output_type": "display_data"
    }
   ],
   "source": [
    "plt.figure(figsize=(10, 3))\n",
    "plt.plot(n_clusters, silhouette, 'ro-', linewidth=2)\n",
    "plt.title('silhouette score')\n",
    "plt.xlabel('Número de clusters')\n",
    "plt.ylabel('Silhouette Score')\n",
    "plt.show()"
   ]
  },
  {
   "cell_type": "code",
   "execution_count": 22,
   "id": "diverse-difficulty",
   "metadata": {},
   "outputs": [
    {
     "data": {
      "image/png": "[encoded data removed]",
      "text/plain": [
       "<Figure size 720x216 with 1 Axes>"
      ]
     },
     "metadata": {
      "needs_background": "light"
     },
     "output_type": "display_data"
    }
   ],
   "source": [
    "plt.figure(figsize=(10, 3))\n",
    "plt.plot(n_clusters, davies_bouldin, 'ro-', linewidth=2)\n",
    "plt.title('Davies Bouldin Score')\n",
    "plt.xlabel('Número de clusters')\n",
    "plt.ylabel('Davies Bouldin Score')\n",
    "plt.show()"
   ]
  },
  {
   "cell_type": "code",
   "execution_count": 23,
   "id": "listed-glucose",
   "metadata": {},
   "outputs": [
    {
     "data": {
      "image/png": "[encoded data removed]",
      "text/plain": [
       "<Figure size 720x216 with 1 Axes>"
      ]
     },
     "metadata": {
      "needs_background": "light"
     },
     "output_type": "display_data"
    }
   ],
   "source": [
    "plt.figure(figsize=(10, 3))\n",
    "plt.plot(n_clusters, calinski_harabasz, 'ro-', linewidth=2)\n",
    "plt.title('Calinski Harabasz Score')\n",
    "plt.xlabel('Número de clusters')\n",
    "plt.ylabel('Calinski Harabasz Score')\n",
    "plt.show()"
   ]
  },
  {
   "cell_type": "markdown",
   "id": "radical-turkey",
   "metadata": {},
   "source": [
    "### 2 - Escolha um k"
   ]
  },
  {
   "cell_type": "markdown",
   "id": "residential-jumping",
   "metadata": {},
   "source": [
    "- Para a silhouette o maior valor representa o melhor numero de K.\n",
    "- O davies_bouldin o valor mais baixo indica o melhor valor para K.\n",
    "- O calinski_harabasz a pontuação mais alta indica o melhor valor de k. \n"
   ]
  },
  {
   "cell_type": "code",
   "execution_count": 24,
   "id": "greek-bonus",
   "metadata": {},
   "outputs": [
    {
     "name": "stdout",
     "output_type": "stream",
     "text": [
      " O melhor k retornado pelo silhouette é: 9\n",
      " O melhor k retornado pelo davies bouldin é: 9\n",
      " O melhor k retornado pelo calinski harabasz é: 3\n"
     ]
    }
   ],
   "source": [
    "silhouette_max = silhouette.index(max(silhouette))\n",
    "davies_bouldin_min = davies_bouldin.index(min(davies_bouldin))\n",
    "calinski_harabasz_max = calinski_harabasz.index(max(calinski_harabasz))\n",
    "\n",
    "print(\" O melhor k retornado pelo silhouette é:\", silhouette_max + 2)\n",
    "print(\" O melhor k retornado pelo davies bouldin é:\", davies_bouldin_min + 2)\n",
    "print(\" O melhor k retornado pelo calinski harabasz é:\", calinski_harabasz_max + 2)"
   ]
  },
  {
   "cell_type": "markdown",
   "id": "fancy-summary",
   "metadata": {},
   "source": [
    "Calinski-Harabasz geralmente apresenta melhores resultados em clusters convexos, baseado em densidade, obtidos com o DBSCAN.\n",
    "Neste caso, considerando o k do silhouette e do davies bouldin, podemos escolher o número de clusters (k) igual a 9.\n",
    " "
   ]
  },
  {
   "cell_type": "markdown",
   "id": "portuguese-finger",
   "metadata": {},
   "source": [
    "### 3-GMM\n",
    "\n",
    "usando o k escolhido no item anterior, rode o GMM\n",
    "\n",
    "- com gaussianas esféricas (matrizes de covariancia sao a matriz identidade vezes uma constante)\n",
    "- com gaussianas diagonais (matrizes de covariancia sao matrizes diagonais)\n",
    "- com gaussianas sem restrição (as matrizes de covariancia são livres"
   ]
  },
  {
   "cell_type": "code",
   "execution_count": 94,
   "id": "maritime-crisis",
   "metadata": {},
   "outputs": [],
   "source": [
    "gmm_spherical = GaussianMixture(n_components=9, covariance_type='spherical',n_init=1).fit(df.values)\n",
    "gmm_diag = GaussianMixture(n_components=9, covariance_type='diag',n_init=1).fit(df.values)\n",
    "gmm_full = GaussianMixture(n_components=9, covariance_type='full',n_init=1).fit(df.values)\n",
    "\n",
    "# Resultados\n",
    "gmm_spherical_result = gmm_spherical.predict(df.values)\n",
    "gmm_diag_result = gmm_diag.predict(df.values)\n",
    "gmm_full_result = gmm_full.predict(df.values)"
   ]
  },
  {
   "cell_type": "markdown",
   "id": "touched-finance",
   "metadata": {},
   "source": [
    "### 4- Medidas externas para comparar duas clusterizações\n",
    "GMM nao produz uma clustrerização tradicional onde cada dado é associado a UM cluster. Para dado, GMM associa um probabilidade do dado pertencer a cada um dos clusters. Para usar as medidas de concordancia entre clusterizações, as clusterizações precisam\n",
    "- Se pelo menos 2 medidas externas para comparar a solução do GMM sem restrição (full) com as outras 2 (esférica e diagonal).\n",
    "- Reporte os resultados"
   ]
  },
  {
   "cell_type": "code",
   "execution_count": 96,
   "id": "increasing-arnold",
   "metadata": {},
   "outputs": [
    {
     "name": "stdout",
     "output_type": "stream",
     "text": [
      "Índice de Fowlkes e Mallows\n",
      "GMM sem restrição e GMM esféricas (spherical): 0.6553437581619336\n",
      "GMM sem restrição e GMM diagonais (diagonal): 0.7180143066820287\n"
     ]
    }
   ],
   "source": [
    "fowlkes_full_spherical = fowlkes_mallows_score(gmm_full_result, gmm_spherical_result)\n",
    "fowlkes_full_diag = fowlkes_mallows_score(gmm_full_result, gmm_diag_result)\n",
    "\n",
    "print('Índice de Fowlkes e Mallows\\nGMM sem restrição e GMM esféricas (spherical):', fowlkes_full_spherical)\n",
    "print('GMM sem restrição e GMM diagonais (diagonal):', fowlkes_full_diag)"
   ]
  },
  {
   "cell_type": "code",
   "execution_count": 97,
   "id": "domestic-federal",
   "metadata": {},
   "outputs": [
    {
     "name": "stdout",
     "output_type": "stream",
     "text": [
      "Índice de Rand (adjusted) \n",
      "GMM sem restrição e GMM esféricas (spherical): 0.5982060246323156\n",
      "GMM sem restrição e GMM diagonais (diagonal): 0.6796029157180037\n"
     ]
    }
   ],
   "source": [
    "rand_full_spherical = adjusted_rand_score(gmm_full_result, gmm_spherical_result)\n",
    "rand_full_diag = adjusted_rand_score(gmm_full_result, gmm_diag_result)\n",
    "\n",
    "print('Índice de Rand (adjusted) \\nGMM sem restrição e GMM esféricas (spherical):', rand_full_spherical)\n",
    "print('GMM sem restrição e GMM diagonais (diagonal):', rand_full_diag)"
   ]
  },
  {
   "cell_type": "markdown",
   "id": "royal-marina",
   "metadata": {},
   "source": [
    "- Índice de Fowlkes e Mallows varia de 0 a 1 e mede a similaridade de dois agrupamentos de um conjunto de pontos. O valor mais proximo de 1 indica que a semelhança entre os grupos.\n",
    "- Índice de Rand Ajustado calcula uma medida de similaridade entre dois agrupamentos, intervalo de 0,0 a 1,0, sendo 1,0 para grupos com maior semelhança. \n"
   ]
  }
 ],
 "metadata": {
  "interpreter": {
   "hash": "c2d7158f41028f4044af6460ea4a69cbef9de2e8f6adf69c7f63df885df84f86"
  },
  "kernelspec": {
   "display_name": "Python 3",
   "language": "python",
   "name": "python3"
  },
  "language_info": {
   "codemirror_mode": {
    "name": "ipython",
    "version": 3
   },
   "file_extension": ".py",
   "mimetype": "text/x-python",
   "name": "python",
   "nbconvert_exporter": "python",
   "pygments_lexer": "ipython3",
   "version": "3.6.2"
  }
 },
 "nbformat": 4,
 "nbformat_minor": 5
}
